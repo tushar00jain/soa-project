{
 "cells": [
  {
   "cell_type": "code",
   "execution_count": 2,
   "metadata": {
    "collapsed": false
   },
   "outputs": [],
   "source": [
    "library(EpiModel)"
   ]
  },
  {
   "cell_type": "code",
   "execution_count": 3,
   "metadata": {
    "collapsed": false
   },
   "outputs": [
    {
     "name": "stdout",
     "output_type": "stream",
     "text": [
      "\n",
      "* Starting ICM Simulation\n",
      "Sim = 1/5\n",
      "Sim = 2/5\n",
      "Sim = 3/5\n",
      "Sim = 4/5\n",
      "Sim = 5/5"
     ]
    }
   ],
   "source": [
    "param <- param.icm(inf.prob = 0.8, act.rate = 0.5, rec.rate = 0.03,\n",
    "                   b.rate = 0.08, ds.rate = 0.08, di.rate = 0.1)\n",
    "init <- init.icm(s.num = 1000, i.num = 100)\n",
    "control <- control.icm(type = \"SIS\", nsteps = 500, nsims = 5)\n",
    "set.seed(1)\n",
    "mod <- icm(param, init, control)"
   ]
  },
  {
   "cell_type": "code",
   "execution_count": 7,
   "metadata": {
    "collapsed": false
   },
   "outputs": [
    {
     "data": {
      "text/html": [
       "<strong>pdf:</strong> 2"
      ],
      "text/latex": [
       "\\textbf{pdf:} 2"
      ],
      "text/markdown": [
       "**pdf:** 2"
      ],
      "text/plain": [
       "pdf \n",
       "  2 "
      ]
     },
     "execution_count": 7,
     "metadata": {},
     "output_type": "execute_result"
    }
   ],
   "source": [
    "par(mfrow = c(1,1))\n",
    "pdf(\"plt.pdf\")\n",
    "plot(mod)\n",
    "dev.off()"
   ]
  },
  {
   "cell_type": "code",
   "execution_count": null,
   "metadata": {
    "collapsed": true
   },
   "outputs": [],
   "source": []
  }
 ],
 "metadata": {
  "kernelspec": {
   "display_name": "R",
   "language": "R",
   "name": "ir"
  },
  "language_info": {
   "codemirror_mode": "r",
   "file_extension": ".r",
   "mimetype": "text/x-r-source",
   "name": "R",
   "pygments_lexer": "r",
   "version": "3.2.3"
  }
 },
 "nbformat": 4,
 "nbformat_minor": 0
}
